{
 "cells": [
  {
   "cell_type": "code",
   "execution_count": 1,
   "metadata": {},
   "outputs": [],
   "source": [
    "import argparse\n",
    "import os\n",
    "import logging\n",
    "from numpy import ogrid\n",
    "import torch\n",
    "from datasets import *\n",
    "from torch_geometric.datasets import TUDataset\n",
    "from torch_geometric.data import Data\n",
    "import networkx as nx\n",
    "from torch_geometric.utils import dense_to_sparse\n",
    "from torch_geometric.utils.convert import to_networkx\n",
    "import pickle\n",
    "from torch_geometric.data import InMemoryDataset\n",
    "\n",
    "from rewire_functions import (\n",
    "    rewire_Graph,\n",
    "    rewire_Graph_local_bridges,\n",
    "    rewire_Graph_betweenness,\n",
    "    apply_rewiring_strategy)\n",
    "import json"
   ]
  },
  {
   "cell_type": "code",
   "execution_count": 2,
   "metadata": {},
   "outputs": [],
   "source": [
    "daga  = torch.load(\"/teamspace/studios/this_studio/gnn-comparison/DATA/PROTEINS_full/processed/PROTEINS_full.pt\")"
   ]
  },
  {
   "cell_type": "code",
   "execution_count": null,
   "metadata": {},
   "outputs": [],
   "source": [
    "daga[1]"
   ]
  },
  {
   "cell_type": "code",
   "execution_count": 19,
   "metadata": {},
   "outputs": [],
   "source": [
    "import pandas as pd"
   ]
  },
  {
   "cell_type": "code",
   "execution_count": 25,
   "metadata": {},
   "outputs": [],
   "source": [
    "import os\n",
    "import json\n",
    "import csv\n",
    "\n",
    "def summarize_all_results_to_csv(results_root, output_file):\n",
    "    fieldnames = [\n",
    "        \"model\", \"dataset\", \"rewiring_strategy\", \"rewire_all_layers\",\n",
    "        \"num_layers\", \"lr\", \"embedding_dim\", \"hidden_dim\", \"batch_size\",\n",
    "        \"avg_TR_score\", \"std_TR_score\", \"avg_TS_score\", \"std_TS_score\"\n",
    "    ]\n",
    "\n",
    "    rows = []\n",
    "\n",
    "    for experiment_name in sorted(os.listdir(results_root)):\n",
    "        experiment_path = os.path.join(results_root, experiment_name, \"10_NESTED_CV\")\n",
    "        if not os.path.isdir(experiment_path):\n",
    "            continue\n",
    "\n",
    "      \n",
    "        row = dict.fromkeys(fieldnames, None)\n",
    "\n",
    "        #getting experiment name\n",
    "        parts = experiment_name.split(\"_\")\n",
    "        if len(parts) >= 2:\n",
    "            row[\"model\"] = parts[0]\n",
    "            row[\"dataset\"] = parts[1]\n",
    "        if len(parts) > 2:\n",
    "            row[\"rewiring_strategy\"] = \"_\".join(parts[2:])\n",
    "\n",
    "        found_config = False\n",
    "\n",
    "        # assessment scores\n",
    "        assessment_path = os.path.join(experiment_path, \"assessment_results.json\")\n",
    "        if os.path.exists(assessment_path):\n",
    "            with open(assessment_path) as f:\n",
    "                assessment = json.load(f)\n",
    "                row[\"avg_TR_score\"] = round(assessment.get(\"avg_TR_score\", 0), 2)\n",
    "                row[\"std_TR_score\"] = round(assessment.get(\"std_TR_score\", 0), 2)\n",
    "                row[\"avg_TS_score\"] = round(assessment.get(\"avg_TS_score\", 0), 2)\n",
    "                row[\"std_TS_score\"] = round(assessment.get(\"std_TS_score\", 0), 2)\n",
    "\n",
    "        #adding config: \n",
    "        config_path = os.path.join(experiment_path, \"OUTER_FOLD_9\", \"outer_results.json\")\n",
    "        if os.path.exists(config_path):\n",
    "            with open(config_path) as f:\n",
    "                fold = json.load(f)\n",
    "                if \"best_config\" in fold and \"config\" in fold[\"best_config\"]:\n",
    "                    config = fold[\"best_config\"][\"config\"]\n",
    "                    row[\"num_layers\"] = config.get(\"num_layers\")\n",
    "                    row[\"lr\"] = config.get(\"learning_rate\")\n",
    "                    row[\"batch_size\"] = config.get(\"batch_size\")\n",
    "                    row[\"hidden_dim\"] = config.get(\"hidden_units\")\n",
    "                    row[\"embedding_dim\"] = config.get(\"dim_embedding\")\n",
    "                    row[\"rewire_all_layers\"] = config.get(\"rewire_for_all_layers\")\n",
    "                    found_config = True\n",
    "\n",
    "        if found_config:\n",
    "            rows.append(row)\n",
    "        else:\n",
    "            print(f\"Skipping {experiment_name}: no usable config found.\")\n",
    "\n",
    "    # Write to CSV\n",
    "    with open(output_file, \"w\", newline=\"\") as f:\n",
    "        writer = csv.DictWriter(f, fieldnames=fieldnames)\n",
    "        writer.writeheader()\n",
    "        writer.writerows(rows)\n",
    "\n",
    "    print(f\" file saved in {output_file}\")\n"
   ]
  },
  {
   "cell_type": "code",
   "execution_count": null,
   "metadata": {},
   "outputs": [],
   "source": [
    "summarize_all_results_to_csv(\"/teamspace/studios/this_studio/gnn-comparison/RESULTS\", \"summary.csv\")\n"
   ]
  },
  {
   "cell_type": "code",
   "execution_count": 27,
   "metadata": {},
   "outputs": [],
   "source": [
    "summary = pd.read_csv(\"summary.csv\")"
   ]
  },
  {
   "cell_type": "code",
   "execution_count": null,
   "metadata": {},
   "outputs": [],
   "source": [
    "summary.head()"
   ]
  },
  {
   "cell_type": "code",
   "execution_count": null,
   "metadata": {},
   "outputs": [],
   "source": []
  }
 ],
 "metadata": {
  "language_info": {
   "name": "python"
  }
 },
 "nbformat": 4,
 "nbformat_minor": 2
}
