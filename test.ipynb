{
 "cells": [
  {
   "cell_type": "code",
   "execution_count": 16,
   "metadata": {},
   "outputs": [],
   "source": [
    "import argparse\n",
    "import os\n",
    "import logging\n",
    "from numpy import ogrid\n",
    "import torch\n",
    "from datasets import *\n",
    "from torch_geometric.datasets import TUDataset\n",
    "from torch_geometric.data import Data\n",
    "import networkx as nx\n",
    "from torch_geometric.utils import dense_to_sparse\n",
    "from torch_geometric.utils.convert import to_networkx\n",
    "import pickle\n",
    "from torch_geometric.data import InMemoryDataset\n",
    "\n",
    "from rewire_functions import (\n",
    "    rewire_Graph,\n",
    "    rewire_Graph_local_bridges,\n",
    "    rewire_Graph_betweenness,\n",
    "    apply_rewiring_strategy)\n",
    "import json"
   ]
  },
  {
   "cell_type": "code",
   "execution_count": 19,
   "metadata": {},
   "outputs": [],
   "source": [
    "import pandas as pd"
   ]
  },
  {
   "cell_type": "code",
   "execution_count": 25,
   "metadata": {},
   "outputs": [],
   "source": [
    "import os\n",
    "import json\n",
    "import csv\n",
    "\n",
    "def summarize_all_results_to_csv(results_root, output_file):\n",
    "    fieldnames = [\n",
    "        \"model\", \"dataset\", \"rewiring_strategy\", \"rewire_all_layers\",\n",
    "        \"num_layers\", \"lr\", \"embedding_dim\", \"hidden_dim\", \"batch_size\",\n",
    "        \"avg_TR_score\", \"std_TR_score\", \"avg_TS_score\", \"std_TS_score\"\n",
    "    ]\n",
    "\n",
    "    rows = []\n",
    "\n",
    "    for experiment_name in sorted(os.listdir(results_root)):\n",
    "        experiment_path = os.path.join(results_root, experiment_name, \"10_NESTED_CV\")\n",
    "        if not os.path.isdir(experiment_path):\n",
    "            continue\n",
    "\n",
    "      \n",
    "        row = dict.fromkeys(fieldnames, None)\n",
    "\n",
    "        #getting experiment name\n",
    "        parts = experiment_name.split(\"_\")\n",
    "        if len(parts) >= 2:\n",
    "            row[\"model\"] = parts[0]\n",
    "            row[\"dataset\"] = parts[1]\n",
    "        if len(parts) > 2:\n",
    "            row[\"rewiring_strategy\"] = \"_\".join(parts[2:])\n",
    "\n",
    "        found_config = False\n",
    "\n",
    "        # assessment scores\n",
    "        assessment_path = os.path.join(experiment_path, \"assessment_results.json\")\n",
    "        if os.path.exists(assessment_path):\n",
    "            with open(assessment_path) as f:\n",
    "                assessment = json.load(f)\n",
    "                row[\"avg_TR_score\"] = round(assessment.get(\"avg_TR_score\", 0), 2)\n",
    "                row[\"std_TR_score\"] = round(assessment.get(\"std_TR_score\", 0), 2)\n",
    "                row[\"avg_TS_score\"] = round(assessment.get(\"avg_TS_score\", 0), 2)\n",
    "                row[\"std_TS_score\"] = round(assessment.get(\"std_TS_score\", 0), 2)\n",
    "\n",
    "        #adding config: \n",
    "        config_path = os.path.join(experiment_path, \"OUTER_FOLD_9\", \"outer_results.json\")\n",
    "        if os.path.exists(config_path):\n",
    "            with open(config_path) as f:\n",
    "                fold = json.load(f)\n",
    "                if \"best_config\" in fold and \"config\" in fold[\"best_config\"]:\n",
    "                    config = fold[\"best_config\"][\"config\"]\n",
    "                    row[\"num_layers\"] = config.get(\"num_layers\")\n",
    "                    row[\"lr\"] = config.get(\"learning_rate\")\n",
    "                    row[\"batch_size\"] = config.get(\"batch_size\")\n",
    "                    row[\"hidden_dim\"] = config.get(\"hidden_units\")\n",
    "                    row[\"embedding_dim\"] = config.get(\"dim_embedding\")\n",
    "                    row[\"rewire_all_layers\"] = config.get(\"rewire_for_all_layers\")\n",
    "                    found_config = True\n",
    "\n",
    "        if found_config:\n",
    "            rows.append(row)\n",
    "        else:\n",
    "            print(f\"Skipping {experiment_name}: no usable config found.\")\n",
    "\n",
    "    # Write to CSV\n",
    "    with open(output_file, \"w\", newline=\"\") as f:\n",
    "        writer = csv.DictWriter(f, fieldnames=fieldnames)\n",
    "        writer.writeheader()\n",
    "        writer.writerows(rows)\n",
    "\n",
    "    print(f\" file saved in {output_file}\")\n"
   ]
  },
  {
   "cell_type": "code",
   "execution_count": 26,
   "metadata": {},
   "outputs": [
    {
     "name": "stdout",
     "output_type": "stream",
     "text": [
      "⚠️ Skipping GraphSAGE_NCI1_assessment: no usable config found.\n",
      "✅ Saved summarized CSV to summary.csv\n"
     ]
    }
   ],
   "source": [
    "summarize_all_results_to_csv(\"/teamspace/studios/this_studio/gnn-comparison/RESULTS\", \"summary.csv\")\n"
   ]
  },
  {
   "cell_type": "code",
   "execution_count": 27,
   "metadata": {},
   "outputs": [],
   "source": [
    "summary = pd.read_csv(\"summary.csv\")"
   ]
  },
  {
   "cell_type": "code",
   "execution_count": 28,
   "metadata": {},
   "outputs": [
    {
     "data": {
      "text/html": [
       "<div>\n",
       "<style scoped>\n",
       "    .dataframe tbody tr th:only-of-type {\n",
       "        vertical-align: middle;\n",
       "    }\n",
       "\n",
       "    .dataframe tbody tr th {\n",
       "        vertical-align: top;\n",
       "    }\n",
       "\n",
       "    .dataframe thead th {\n",
       "        text-align: right;\n",
       "    }\n",
       "</style>\n",
       "<table border=\"1\" class=\"dataframe\">\n",
       "  <thead>\n",
       "    <tr style=\"text-align: right;\">\n",
       "      <th></th>\n",
       "      <th>model</th>\n",
       "      <th>dataset</th>\n",
       "      <th>rewiring_strategy</th>\n",
       "      <th>rewire_all_layers</th>\n",
       "      <th>num_layers</th>\n",
       "      <th>lr</th>\n",
       "      <th>embedding_dim</th>\n",
       "      <th>hidden_dim</th>\n",
       "      <th>batch_size</th>\n",
       "      <th>avg_TR_score</th>\n",
       "      <th>std_TR_score</th>\n",
       "      <th>avg_TS_score</th>\n",
       "      <th>std_TS_score</th>\n",
       "    </tr>\n",
       "  </thead>\n",
       "  <tbody>\n",
       "    <tr>\n",
       "      <th>0</th>\n",
       "      <td>GraphSAGE</td>\n",
       "      <td>PROTEINS</td>\n",
       "      <td>assessment_betweeness</td>\n",
       "      <td>1</td>\n",
       "      <td>5</td>\n",
       "      <td>0.001</td>\n",
       "      <td>64</td>\n",
       "      <td>128</td>\n",
       "      <td>64</td>\n",
       "      <td>77.56</td>\n",
       "      <td>2.19</td>\n",
       "      <td>72.93</td>\n",
       "      <td>3.63</td>\n",
       "    </tr>\n",
       "    <tr>\n",
       "      <th>1</th>\n",
       "      <td>GraphSAGE</td>\n",
       "      <td>PROTEINS</td>\n",
       "      <td>assessment_bridges_1</td>\n",
       "      <td>1</td>\n",
       "      <td>5</td>\n",
       "      <td>0.001</td>\n",
       "      <td>64</td>\n",
       "      <td>128</td>\n",
       "      <td>64</td>\n",
       "      <td>78.20</td>\n",
       "      <td>3.99</td>\n",
       "      <td>72.90</td>\n",
       "      <td>4.27</td>\n",
       "    </tr>\n",
       "  </tbody>\n",
       "</table>\n",
       "</div>"
      ],
      "text/plain": [
       "       model   dataset      rewiring_strategy  rewire_all_layers  num_layers  \\\n",
       "0  GraphSAGE  PROTEINS  assessment_betweeness                  1           5   \n",
       "1  GraphSAGE  PROTEINS   assessment_bridges_1                  1           5   \n",
       "\n",
       "      lr  embedding_dim  hidden_dim  batch_size  avg_TR_score  std_TR_score  \\\n",
       "0  0.001             64         128          64         77.56          2.19   \n",
       "1  0.001             64         128          64         78.20          3.99   \n",
       "\n",
       "   avg_TS_score  std_TS_score  \n",
       "0         72.93          3.63  \n",
       "1         72.90          4.27  "
      ]
     },
     "execution_count": 28,
     "metadata": {},
     "output_type": "execute_result"
    }
   ],
   "source": [
    "summary.head()"
   ]
  },
  {
   "cell_type": "code",
   "execution_count": null,
   "metadata": {},
   "outputs": [],
   "source": []
  }
 ],
 "metadata": {
  "language_info": {
   "name": "python"
  }
 },
 "nbformat": 4,
 "nbformat_minor": 2
}
