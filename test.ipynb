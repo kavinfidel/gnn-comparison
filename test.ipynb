{
 "cells": [
  {
   "cell_type": "code",
   "execution_count": 4,
   "metadata": {},
   "outputs": [
    {
     "name": "stdout",
     "output_type": "stream",
     "text": [
      "<class 'torch_geometric.datasets.tu_dataset.TUDataset'>\n",
      "PROTEINS(1113)\n"
     ]
    }
   ],
   "source": [
    "import torch\n",
    "data = torch.load(\"/teamspace/studios/this_studio/gnn-comparison/DATA/CHEMICAL/PROTEINS_rewired&original_preprocessed.pt\")\n",
    "print(type(data))\n",
    "print(data)\n"
   ]
  },
  {
   "cell_type": "code",
   "execution_count": null,
   "metadata": {},
   "outputs": [],
   "source": []
  }
 ],
 "metadata": {
  "language_info": {
   "name": "python"
  }
 },
 "nbformat": 4,
 "nbformat_minor": 2
}
